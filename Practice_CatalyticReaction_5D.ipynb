{
 "cells": [
  {
   "cell_type": "markdown",
   "metadata": {
    "slideshow": {
     "slide_type": "slide"
    }
   },
   "source": [
    "# Introduction to the Gaussian process regression \n",
    "## Solusion to the Practice ploblem\n",
    "\n",
    "\n",
    "\n",
    "\n",
    "Georgios Karagiannis, Department of Mathematics, Purdue\n",
    "\n",
    "SURF 2016\n",
    "\n",
    "July 8, 2016"
   ]
  },
  {
   "cell_type": "markdown",
   "metadata": {
    "slideshow": {
     "slide_type": "slide"
    }
   },
   "source": [
    "Objective :\n",
    "\n",
    "- We wish to build a Gaussian Process regression --a probabilistic surrogate model-- in order to be able to emulate the output of the Piston Simulator, with respect to specified inputs.\n",
    "\n",
    "Related material:\n",
    "\n",
    "    Readings :\n",
    "    \n",
    "    - Rasmussen, Carl Edward. \"Gaussian processes in machine learning.\" In Advanced lectures on machine learning, pp. 63-71. Springer Berlin Heidelberg, 2004. \t\n",
    "        - see http://www.GaussianProcess.org/gpml\n",
    "        - Chapters: 2, 4, 5.1, & 5.4.2\n",
    "\n",
    "    - Slides provided\n",
    "    \n",
    "    Software :\n",
    "    \n",
    "    - R-cran (https://cran.r-project.org/)\n",
    "    - R packages \n",
    "        - DiceKrigin (https://cran.r-project.org/web/packages/DiceKriging/index.html)\n",
    "        - lhs (https://cran.r-project.org/web/packages/lhs/index.html)\n",
    "    - Roustant, Olivier, David Ginsbourger, and Yves Deville. \"DiceKriging, DiceOptim: Two R packages for the analysis of computer experiments by kriging-based metamodeling and optimization.\" (2012).\n",
    "        - Plus dependences ..."
   ]
  },
  {
   "cell_type": "markdown",
   "metadata": {
    "slideshow": {
     "slide_type": "slide"
    }
   },
   "source": [
    "# Catalytic Conversion of Nitrate to Nitrogen model\n",
    "\n",
    "## Example: Catalytic Conversion of Nitrate to Nitrogen\n",
    "\n",
    "This is Example 3.1 of [Tsilifis, Panagiotis, Ilias Bilionis, Ioannis Katsounaros, and Nicholas Zabaras. \"Variational Reformulation of Bayesian Inverse Problems.\" arXiv preprint arXiv:1410.5522 (2014)].\n",
    "\n",
    "Consider the catalytic\n",
    "conversion of nitrate ($\\mbox{NO}_3^-$) to nitrogen ($\\mbox{N}_2$) and other\n",
    "by-products by electrochemical means.\n",
    "The mechanism that is followed is complex and not well understood.\n",
    "The experiment of \\cite{katsounaros} confirmed the\n",
    "production of nitrogen ($\\mbox{N}_2$), ammonia\n",
    "($\\mbox{NH}_3$), and nitrous oxide ($\\mbox{N}_2\\mbox{O}$) as final products\n",
    "of the reaction, as well as the intermediate production of nitrite ($\\mbox{NO}_2^-$).\n",
    "The time is measured in minutes and the conentrations are measured in $\\mbox{mmol}\\cdot\\mbox{L}^{-1}$.\n",
    "Let's load the data into this notebook using the [Pandas](http://pandas.pydata.org) Python module:\n",
    "\n",
    "\n",
    "This inconsistency suggests the existence of an intermediate unobserved reaction product X.\n",
    "[Katsounaros, Ioannis, Maria Dortsiou, Christos Polatides, Simon Preston, Theodore Kypraios, and Georgios Kyriacou. \"Reaction pathways in the electrochemical reduction of nitrate on tin.\" Electrochimica Acta 71 (2012): 270-276.] suggested that the following reaction path shown in the following figure.\n",
    "\n",
    "\n",
    "![](./plots/scheme.png \"Reaction Scheme\")\n",
    "\n",
    "The dynamical system associated with the reaction is:\n",
    "$$\n",
    "\\begin{array}{cc}\n",
    "\\frac{d \\left[\\mbox{NO}_3^-\\right]}{dt} &= -k_1\\left[\\mbox{NO}_3^-\\right], \\\\\n",
    "\\frac{d\\left[\\mbox{NO}_2^-\\right]}{dt} &= k_1\\left[\\mbox{NO}_3^-\\right] - (k_2 + k_4 +\n",
    "k_5)[\\mbox{NO}_2^-], \\\\\n",
    "\\frac{d \\left[\\mbox{X}\\right]}{dt} &= k_2 \\left[\\mbox{NO}_2^-\\right] - k_3 [X],\\\\\n",
    "\\frac{d \\left[\\mbox{N}_2\\right]}{dt} &= k_3 \\left[\\mbox{X}\\right], \\\\\n",
    "\\frac{d \\left[\\mbox{NH}_3\\right]}{dt} &= k_4 \\left[\\mbox{NO}_2^-\\right],\\\\\n",
    "\\frac{d \\left[\\mbox{N}_2O\\right]}{dt} &= k_5 \\left[\\mbox{NO}_2^-\\right],\n",
    "\\end{array}\n",
    "$$\n",
    "where $[\\cdot]$ denotes the concentration of a quantity, and\n",
    "$k_i > 0$, $i=1,...5$ are the *kinetic rate constants*.\n",
    "\n",
    "### Computational Model\n",
    "\n",
    "We will develop a generic computational model for the solution of dynamical systems and we will use it to study the catalysis problem. The code relies on the [Fourth-order Runge-Kutta method](https://en.wikipedia.org/wiki/Runge–Kutta_methods) and is a modified copy of [http://www.math-cs.gordon.edu/courses/ma342/python/diffeq.py](http://www.math-cs.gordon.edu/courses/ma342/python/diffeq.py) developed by Jonathan Senning. The code solves:\n",
    "\n",
    "$$\n",
    "\\begin{array}{ccc}\n",
    "\\dot{\\mathbf{y}} &=& f(\\mathbf{y}, t),\\\\\n",
    "\\mathbf{y}(0) &=& \\mathbf{y}_0.\n",
    "\\end{array}\n",
    "$$\n",
    "\n",
    "The input values are:\n",
    "\n",
    "| Variable | Value |\n",
    "|---------|------------------|\n",
    "| $\\xi_1$ |$1.35\\pm 0.05$ |\n",
    "| $\\xi_2$ |$1.65\\pm 0.08$   |\n",
    "| $\\xi_3$ |$1.34\\pm 0.11$ |\n",
    "| $\\xi_4$ |$-0.16\\pm 0.16$ |\n",
    "| $\\xi_5$ |$-3.84\\pm 0.20$ |\n",
    "\n",
    "\n",
    "The output values of the simulator are the concentrations (in $\\mbox{mmol}\\cdot\\mbox{L}^{-1}$) of $\\mbox{NO}_3^-$, $\\mbox{NO}_2^-$, X ( unobserved reaction product),  $\\mbox{N}_2$, $\\mbox{NH}_3$, $\\mbox{N}_2\\mbox{O}$, and $\\mbox{NO}_2^-$.\n",
    "\n",
    "The R code in './catalytic.R' provides a simulator that returns only one output value (selected by the user), given the values of the 5 inputs.\n",
    "\n",
    "\n",
    "Tsilifis, Panagiotis, Ilias Bilionis, Ioannis Katsounaros, and Nicholas Zabaras. \"Variational Reformulation of Bayesian Inverse Problems.\" arXiv preprint arXiv:1410.5522 (2014)\n"
   ]
  },
  {
   "cell_type": "markdown",
   "metadata": {
    "slideshow": {
     "slide_type": "slide"
    }
   },
   "source": [
    "## Software preparation"
   ]
  },
  {
   "cell_type": "code",
   "execution_count": 1,
   "metadata": {
    "collapsed": false,
    "slideshow": {
     "slide_type": "slide"
    }
   },
   "outputs": [
    {
     "name": "stderr",
     "output_type": "stream",
     "text": [
      "Installing package into ‘/export/users/gkaragia/R/x86_64-redhat-linux-gnu-library/3.3’\n",
      "(as ‘lib’ is unspecified)\n",
      "Warning message:\n",
      "In install.packages(\"DiceKriging\", repos = \"http://cran.us.r-project.org\"): installation of package ‘DiceKriging’ had non-zero exit statusInstalling package into ‘/export/users/gkaragia/R/x86_64-redhat-linux-gnu-library/3.3’\n",
      "(as ‘lib’ is unspecified)\n",
      "Warning message:\n",
      "In install.packages(\"lhs\", repos = \"http://cran.us.r-project.org\"): installation of package ‘lhs’ had non-zero exit status"
     ]
    }
   ],
   "source": [
    "# DOWNLOAD THE R PACKAGES REQUIRED\n",
    "install.packages('DiceKriging', repos = \"http://cran.us.r-project.org\")\n",
    "install.packages('lhs', repos = \"http://cran.us.r-project.org\")\n",
    "# install.packages('tcltk', repos = \"http://cran.us.r-project.org\")\n",
    "# install.packages('aplpack', repos = \"http://cran.us.r-project.org\")"
   ]
  },
  {
   "cell_type": "code",
   "execution_count": 2,
   "metadata": {
    "collapsed": false,
    "slideshow": {
     "slide_type": "slide"
    }
   },
   "outputs": [],
   "source": [
    "# LOAD THE R PACKAGES REQUIRED\n",
    "library('lhs')\n",
    "library('DiceKriging')\n",
    "# library('tcltk')\n",
    "# library('aplpack')"
   ]
  },
  {
   "cell_type": "code",
   "execution_count": 3,
   "metadata": {
    "collapsed": false,
    "scrolled": false,
    "slideshow": {
     "slide_type": "slide"
    }
   },
   "outputs": [],
   "source": [
    "# THIS IS THE SIMULATOR AND THE MIN AND MAX OF THE INPUTS\n",
    "\n",
    "source(\"./catalytic.R\") # function: output_1d <- simulator(input_5d, jout=4)\n",
    "input_min <- c(1.30,  1.57,  1.23, -0.32, -4.04)\n",
    "input_max <- c(1.40,  1.73,  1.45,  0.00, -3.64)\n",
    "input_d <- length(input_min)\n",
    "\n",
    "# par(mfrow=c(2,3))\n",
    "# for (i in 1:6) {\n",
    "#     n_data <- 500 ;\n",
    "#     n_dim <- input_d\n",
    "#     X_data <- t(input_min + (input_max-input_min)*t(matrix(runif(n_data*n_dim),n_data, n_dim))) ;\n",
    "#     myfun <-function(xi){ return(simulator(xi,i))}\n",
    "#     Y_data <- apply(X_data, 1, myfun) ;\n",
    "#     hist(Y_data)\n",
    "# }\n",
    "\n",
    "myfun <- function(xx) {return(simulator(xx, jout=4)) }\n",
    "\n",
    "# # PLOT THE REAL FUNCTION TO SEE HOW IT LOOKS LIKE\n",
    "\n",
    "# par(mfrow = c(3,3))\n",
    "# for (i in 1:input_d) {\n",
    "#     for ( j in 1:input_d ) \n",
    "#         if(i>j) {\n",
    "#         n.grid <- 100 ;\n",
    "#         x1.grid <-seq(input_min[i],input_max[i],length.out=n.grid) ;\n",
    "#         x2.grid <-seq(input_min[j],input_max[j],length.out=n.grid) ;\n",
    "#         X.grid <- expand.grid( x1=x1.grid,  x2=x2.grid )\n",
    "#         myfun2d<-function(xx){ \n",
    "#                             zz<-0.5*(input_min+input_max) ; \n",
    "#                             zz[i]<-xx[1]; zz[j]<-xx[2]; \n",
    "#                             return(myfun(zz)) \n",
    "#                     }\n",
    "#         y.grid <- apply(X.grid,1,myfun2d)\n",
    "#     contour(x1.grid, x2.grid, matrix(y.grid, n.grid, n.grid), 10, \n",
    "#             main = \"Real function\", \n",
    "#             xlab = paste(\"x\", as.character(i)), \n",
    "#             ylab = paste(\"x\", as.character(j)),\n",
    "#             xlim = c(input_min[i],input_max[i]), \n",
    "#             ylim = c(input_min[j],input_max[j]))\n",
    "#     }\n",
    "# }"
   ]
  },
  {
   "cell_type": "markdown",
   "metadata": {
    "slideshow": {
     "slide_type": "slide"
    }
   },
   "source": [
    "## Generate a training data-set\n",
    "\n",
    "Generate a training data-set $D={(x_i,y_i);i=1,...,n}$  of size $n=20$ via a LHS."
   ]
  },
  {
   "cell_type": "code",
   "execution_count": null,
   "metadata": {
    "collapsed": false,
    "slideshow": {
     "slide_type": "slide"
    }
   },
   "outputs": [],
   "source": []
  },
  {
   "cell_type": "markdown",
   "metadata": {
    "slideshow": {
     "slide_type": "slide"
    }
   },
   "source": [
    "## Compare different GP regression models\n",
    "\n",
    "Use the diagnostics we leant, and compare Gaussian process regression models deffering on the prior linear trend structure or the covariance function"
   ]
  },
  {
   "cell_type": "code",
   "execution_count": null,
   "metadata": {
    "collapsed": true
   },
   "outputs": [],
   "source": []
  },
  {
   "cell_type": "code",
   "execution_count": null,
   "metadata": {
    "collapsed": false
   },
   "outputs": [],
   "source": []
  },
  {
   "cell_type": "markdown",
   "metadata": {
    "slideshow": {
     "slide_type": "slide"
    }
   },
   "source": [
    "## Choose the 'Best' model"
   ]
  },
  {
   "cell_type": "code",
   "execution_count": null,
   "metadata": {
    "collapsed": false,
    "scrolled": false,
    "slideshow": {
     "slide_type": "slide"
    }
   },
   "outputs": [],
   "source": []
  },
  {
   "cell_type": "markdown",
   "metadata": {},
   "source": [
    "## Check the validity of the chossen 'Best' model"
   ]
  },
  {
   "cell_type": "code",
   "execution_count": null,
   "metadata": {
    "collapsed": false
   },
   "outputs": [],
   "source": []
  },
  {
   "cell_type": "markdown",
   "metadata": {
    "slideshow": {
     "slide_type": "slide"
    }
   },
   "source": [
    "## Print the estimates of the hyperparameters"
   ]
  },
  {
   "cell_type": "code",
   "execution_count": 5,
   "metadata": {
    "collapsed": false,
    "slideshow": {
     "slide_type": "-"
    }
   },
   "outputs": [
    {
     "ename": "ERROR",
     "evalue": "Error in show(myfun_km): object 'myfun_km' not found\n",
     "output_type": "error",
     "traceback": [
      "Error in show(myfun_km): object 'myfun_km' not found\n"
     ]
    }
   ],
   "source": [
    "# PRINT THE PARAMETERS\n",
    "\n",
    "show(myfun_km)"
   ]
  },
  {
   "cell_type": "markdown",
   "metadata": {
    "slideshow": {
     "slide_type": "slide"
    }
   },
   "source": [
    "## Plot the posterior GPR mean and variance, as well as the real function (in contour plots)"
   ]
  },
  {
   "cell_type": "code",
   "execution_count": null,
   "metadata": {
    "collapsed": false,
    "scrolled": false,
    "slideshow": {
     "slide_type": "-"
    }
   },
   "outputs": [],
   "source": []
  }
 ],
 "metadata": {
  "celltoolbar": "Slideshow",
  "kernelspec": {
   "display_name": "R",
   "language": "R",
   "name": "ir"
  },
  "language_info": {
   "codemirror_mode": "r",
   "file_extension": ".r",
   "mimetype": "text/x-r-source",
   "name": "R",
   "pygments_lexer": "r",
   "version": "3.3.0"
  }
 },
 "nbformat": 4,
 "nbformat_minor": 0
}
